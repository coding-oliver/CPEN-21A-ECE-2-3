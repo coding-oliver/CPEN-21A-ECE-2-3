{
  "nbformat": 4,
  "nbformat_minor": 0,
  "metadata": {
    "colab": {
      "name": "Control Structure.ipynb",
      "provenance": [],
      "authorship_tag": "ABX9TyNIuimcnBogXbfWC+zMokVF",
      "include_colab_link": true
    },
    "kernelspec": {
      "name": "python3",
      "display_name": "Python 3"
    },
    "language_info": {
      "name": "python"
    }
  },
  "cells": [
    {
      "cell_type": "markdown",
      "metadata": {
        "id": "view-in-github",
        "colab_type": "text"
      },
      "source": [
        "<a href=\"https://colab.research.google.com/github/coding-oliver/CPEN-21A-ECE-2-3/blob/main/Control_Structure.ipynb\" target=\"_parent\"><img src=\"https://colab.research.google.com/assets/colab-badge.svg\" alt=\"Open In Colab\"/></a>"
      ]
    },
    {
      "cell_type": "markdown",
      "metadata": {
        "id": "xvLxWiAAyeBt"
      },
      "source": [
        "## If Statements"
      ]
    },
    {
      "cell_type": "code",
      "metadata": {
        "colab": {
          "base_uri": "https://localhost:8080/"
        },
        "id": "AsXoKlhgxjjS",
        "outputId": "cdc414ed-af16-4ee6-f77f-ab1373d97e3d"
      },
      "source": [
        "#Conditional Variables\n",
        "#If condition:\n",
        "  #block statements\n",
        "\n",
        "#Examples: \n",
        "a= 12\n",
        "b= 100\n",
        "\n",
        "if a<b:\n",
        "  print(\"a is less than b\")\n",
        "if a>b:\n",
        "  print(\"b is greater than a\")"
      ],
      "execution_count": null,
      "outputs": [
        {
          "output_type": "stream",
          "name": "stdout",
          "text": [
            "a is less than b\n"
          ]
        }
      ]
    },
    {
      "cell_type": "markdown",
      "metadata": {
        "id": "Q8J0-Ru-zYQI"
      },
      "source": [
        "##Elif Statements\n",
        "\n",
        "\n"
      ]
    },
    {
      "cell_type": "code",
      "metadata": {
        "colab": {
          "base_uri": "https://localhost:8080/"
        },
        "id": "9kLV8iwFzmAf",
        "outputId": "4ea141a8-7cf9-4663-be53-2b323f14160c"
      },
      "source": [
        "#declaration of variables \n",
        "#if condition 1:\n",
        "    #block of statements\n",
        "#elif conditiona2:\n",
        "    #block of statements\n",
        "\n",
        "a= 30\n",
        "b= 15\n",
        "\n",
        "if a<b:\n",
        "  print(\"a is less than b\")\n",
        "elif a>b:\n",
        "  print(\"a is greater than b\")\n"
      ],
      "execution_count": null,
      "outputs": [
        {
          "output_type": "stream",
          "name": "stdout",
          "text": [
            "a is greater than b\n"
          ]
        }
      ]
    },
    {
      "cell_type": "markdown",
      "metadata": {
        "id": "X86zdKMs0U3F"
      },
      "source": [
        "##Else Statement "
      ]
    },
    {
      "cell_type": "code",
      "metadata": {
        "colab": {
          "base_uri": "https://localhost:8080/"
        },
        "id": "rOcldrc60tHc",
        "outputId": "ba136819-78c0-42d6-86c5-4d466992194c"
      },
      "source": [
        "a= 30\n",
        "b= 30\n",
        "\n",
        "if a<b:\n",
        "  print(\"a is less than b\")\n",
        "elif a>b:\n",
        "  print(\"a is greater than b\")\n",
        "else:\n",
        "  print(\"a is equal to b\")"
      ],
      "execution_count": null,
      "outputs": [
        {
          "output_type": "stream",
          "name": "stdout",
          "text": [
            "a is equal to b\n"
          ]
        }
      ]
    },
    {
      "cell_type": "markdown",
      "metadata": {
        "id": "hY5zIVsc0z6U"
      },
      "source": [
        "##Short Hand If Statement"
      ]
    },
    {
      "cell_type": "code",
      "metadata": {
        "id": "SgVOcwxa05cD"
      },
      "source": [
        "a=16\n",
        "b=22\n",
        "if a>b: print(\"a is greater than b\")"
      ],
      "execution_count": null,
      "outputs": []
    },
    {
      "cell_type": "markdown",
      "metadata": {
        "id": "ipinbr6z1Nvr"
      },
      "source": [
        "##Short Hand If..Else Statement"
      ]
    },
    {
      "cell_type": "code",
      "metadata": {
        "colab": {
          "base_uri": "https://localhost:8080/"
        },
        "id": "n1kvGxux1Slp",
        "outputId": "6d31577b-e8a7-4688-da68-390234571442"
      },
      "source": [
        "print(a)\n",
        "print(b)\n",
        "\n",
        "print(\"a is greater than b\")if a>b else print(\"b is greater than a\")"
      ],
      "execution_count": null,
      "outputs": [
        {
          "output_type": "stream",
          "name": "stdout",
          "text": [
            "16\n",
            "22\n",
            "b is greater than a\n"
          ]
        }
      ]
    },
    {
      "cell_type": "markdown",
      "metadata": {
        "id": "7ApYsd_52IOn"
      },
      "source": [
        "##And logic condition"
      ]
    },
    {
      "cell_type": "code",
      "metadata": {
        "colab": {
          "base_uri": "https://localhost:8080/"
        },
        "id": "pJR7SkQK2N83",
        "outputId": "8d87a3e7-3335-4212-8fd0-f1622c702c66"
      },
      "source": [
        "a= 200\n",
        "b = 33\n",
        "c = 500\n",
        "\n",
        "if a>b and c>a:\n",
        "  print(\"both conditions are True\")\n",
        "else:\n",
        "  print(\"Either of the conditions is True\")"
      ],
      "execution_count": null,
      "outputs": [
        {
          "output_type": "stream",
          "name": "stdout",
          "text": [
            "both conditions are True\n"
          ]
        }
      ]
    },
    {
      "cell_type": "markdown",
      "metadata": {
        "id": "P_4BIwdl3LZ9"
      },
      "source": [
        "##Or Logic Condition"
      ]
    },
    {
      "cell_type": "code",
      "metadata": {
        "colab": {
          "base_uri": "https://localhost:8080/"
        },
        "id": "zWUIaEJq3N2U",
        "outputId": "2b7b2854-eb68-4cea-ecca-ad525389dba3"
      },
      "source": [
        "if a<b or c>a:\n",
        "  print(\"True\")\n",
        "else:\n",
        "  print(\"False\")\n"
      ],
      "execution_count": null,
      "outputs": [
        {
          "output_type": "stream",
          "name": "stdout",
          "text": [
            "True\n"
          ]
        }
      ]
    },
    {
      "cell_type": "markdown",
      "metadata": {
        "id": "FGQUtSBd3y8B"
      },
      "source": [
        "##Nested If"
      ]
    },
    {
      "cell_type": "code",
      "metadata": {
        "colab": {
          "base_uri": "https://localhost:8080/"
        },
        "id": "6JefkFN839t5",
        "outputId": "d4efdf44-c7e5-4959-d7d8-f54d1439a5a4"
      },
      "source": [
        "x = 11\n",
        "if x>10:\n",
        "  print(\"Above ten!\")\n",
        "  if x>20:\n",
        "    print(\"and above 20!\")\n",
        "  if x>30:\n",
        "    print(\"and above 30!\")\n",
        "  else:\n",
        "    print(\"not above 20\")\n",
        "else:\n",
        "  print(\"below 10\")"
      ],
      "execution_count": null,
      "outputs": [
        {
          "output_type": "stream",
          "name": "stdout",
          "text": [
            "Above ten!\n",
            "not above 20\n"
          ]
        }
      ]
    },
    {
      "cell_type": "markdown",
      "metadata": {
        "id": "ZdgVn8Ca5iz8"
      },
      "source": [
        "##Example 1"
      ]
    },
    {
      "cell_type": "code",
      "metadata": {
        "colab": {
          "base_uri": "https://localhost:8080/"
        },
        "id": "hHFLvJR25l-M",
        "outputId": "7bade504-0600-49a2-d3b9-5ddfa8b74395"
      },
      "source": [
        "age = int(input(\"Enteryour Age:\"))\n",
        "if age>= 18: \n",
        "  print(\"You are qualified to vote.\")\n",
        "else:\n",
        "  print(\"You are not qualified to vote. You are still underage.\")"
      ],
      "execution_count": null,
      "outputs": [
        {
          "output_type": "stream",
          "name": "stdout",
          "text": [
            "Enteryour Age:18\n",
            "You are qualified to vote.\n"
          ]
        }
      ]
    },
    {
      "cell_type": "markdown",
      "metadata": {
        "id": "_1UXUXhuA2wE"
      },
      "source": [
        "## Example 2"
      ]
    },
    {
      "cell_type": "code",
      "metadata": {
        "colab": {
          "base_uri": "https://localhost:8080/"
        },
        "id": "K6OBjbM0A4mt",
        "outputId": "1a57f0c4-2d0c-4a5f-96c2-6443def69139"
      },
      "source": [
        "number = float(input(\"Input any number you want: \"))\n",
        "if number > 0:\n",
        "   print(\"The number is  a positive number!\")\n",
        "elif number == 0:\n",
        "   print(\"The number is Zero!\")\n",
        "else:\n",
        "   print(\"The number is a negative number!\")"
      ],
      "execution_count": null,
      "outputs": [
        {
          "output_type": "stream",
          "name": "stdout",
          "text": [
            "Input any number you want: 500\n",
            "The number is  a positive number!\n"
          ]
        }
      ]
    },
    {
      "cell_type": "markdown",
      "metadata": {
        "id": "PtP9rq6I8YIL"
      },
      "source": [
        "## Example 3"
      ]
    },
    {
      "cell_type": "code",
      "metadata": {
        "colab": {
          "base_uri": "https://localhost:8080/"
        },
        "id": "971m9xaU8bcd",
        "outputId": "79bc1607-00e4-47d8-8298-e3282ed71981"
      },
      "source": [
        "#Write a Python Program if the grades are:\n",
        "#grade>=75 \"Passed\"\n",
        "#grade=74 \"Remedial\"\n",
        "#grade==74 \"Failed\"\n",
        "\n",
        "grade= float(input(\"Enter your grade:\"))\n",
        "\n",
        "if grade >= 75:\n",
        "  print(\"You Passed!\")\n",
        "elif grade==74:\n",
        "  print(\"Remedial\")\n",
        "else: \n",
        "  print(\"You Failed\")"
      ],
      "execution_count": null,
      "outputs": [
        {
          "output_type": "stream",
          "name": "stdout",
          "text": [
            "Enter your grade:74.9\n",
            "You Failed\n"
          ]
        }
      ]
    },
    {
      "cell_type": "code",
      "metadata": {
        "colab": {
          "base_uri": "https://localhost:8080/"
        },
        "id": "VX5SgLo49t5-",
        "outputId": "d7312d79-185f-4a99-c919-b759917f6006"
      },
      "source": [
        "grade= float(input(\"Enter your grade:\"))\n",
        "\n",
        "if grade >= 75:\n",
        "  print(\"You Passed!\")\n",
        "elif grade > 74 and grade < 75:\n",
        "    print(\"Please take Remedial Class.\")\n",
        "else: \n",
        "  print(\"Were very sorry. You Failed.\")"
      ],
      "execution_count": 113,
      "outputs": [
        {
          "output_type": "stream",
          "name": "stdout",
          "text": [
            "Enter your grade:74.1000056\n",
            "Please take Remedial Class.\n"
          ]
        }
      ]
    }
  ]
}