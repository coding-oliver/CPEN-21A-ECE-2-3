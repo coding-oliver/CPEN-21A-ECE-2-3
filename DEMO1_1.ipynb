{
  "nbformat": 4,
  "nbformat_minor": 0,
  "metadata": {
    "colab": {
      "name": "DEMO1-1.ipynb",
      "provenance": [],
      "authorship_tag": "ABX9TyOvO0+qewm+4dwV+WGBFGfv",
      "include_colab_link": true
    },
    "kernelspec": {
      "name": "python3",
      "display_name": "Python 3"
    },
    "language_info": {
      "name": "python"
    }
  },
  "cells": [
    {
      "cell_type": "markdown",
      "metadata": {
        "id": "view-in-github",
        "colab_type": "text"
      },
      "source": [
        "<a href=\"https://colab.research.google.com/github/coding-oliver/CPEN-21A-ECE-2-3/blob/main/DEMO1_1.ipynb\" target=\"_parent\"><img src=\"https://colab.research.google.com/assets/colab-badge.svg\" alt=\"Open In Colab\"/></a>"
      ]
    },
    {
      "cell_type": "markdown",
      "metadata": {
        "id": "nugjukbs4i4a"
      },
      "source": [
        "###Python Indentation"
      ]
    },
    {
      "cell_type": "code",
      "metadata": {
        "colab": {
          "base_uri": "https://localhost:8080/"
        },
        "id": "p65YBOqB3-Mj",
        "outputId": "36378390-1556-44b2-d198-8123be354aec"
      },
      "source": [
        "if 5>2:\n",
        "  print(\"Five is greater than two!\") #This code shows a string of words.\n"
      ],
      "execution_count": 5,
      "outputs": [
        {
          "output_type": "stream",
          "name": "stdout",
          "text": [
            "Five is greater than two!\n"
          ]
        }
      ]
    },
    {
      "cell_type": "markdown",
      "metadata": {
        "id": "_HKVVvYx5S61"
      },
      "source": [
        "##Python Variable"
      ]
    },
    {
      "cell_type": "code",
      "metadata": {
        "colab": {
          "base_uri": "https://localhost:8080/"
        },
        "id": "ymGU-9C55SvH",
        "outputId": "cddafd36-b21e-4948-c49f-28644ab8c3cb"
      },
      "source": [
        "x = 1 \n",
        "a, b=0, -1\n",
        "a, b, c = 0, -1, 2\n",
        "\n",
        "print(a)\n",
        "print(b)\n",
        "print(c)\n"
      ],
      "execution_count": 8,
      "outputs": [
        {
          "output_type": "stream",
          "name": "stdout",
          "text": [
            "0\n",
            "-1\n",
            "2\n"
          ]
        }
      ]
    },
    {
      "cell_type": "markdown",
      "metadata": {
        "id": "EFacxKhp6gDO"
      },
      "source": [
        "###Casting"
      ]
    },
    {
      "cell_type": "code",
      "metadata": {
        "colab": {
          "base_uri": "https://localhost:8080/"
        },
        "id": "UrR5HNsC6z9y",
        "outputId": "8524b7b5-7bce-4cdd-c4d3-4ea5b2f3eca5"
      },
      "source": [
        "b = \"sally\" #This is a type of string\n",
        "b = int(4)\n",
        "print(b)"
      ],
      "execution_count": 14,
      "outputs": [
        {
          "output_type": "stream",
          "name": "stdout",
          "text": [
            "4\n"
          ]
        }
      ]
    },
    {
      "cell_type": "code",
      "metadata": {
        "colab": {
          "base_uri": "https://localhost:8080/"
        },
        "id": "Cor83l4w7MQ4",
        "outputId": "ba14e895-62f3-453a-e919-125f4e9ffad6"
      },
      "source": [
        "b = float(4.1564321654)\n",
        "print(b)"
      ],
      "execution_count": 13,
      "outputs": [
        {
          "output_type": "stream",
          "name": "stdout",
          "text": [
            "4.1564321654\n"
          ]
        }
      ]
    },
    {
      "cell_type": "markdown",
      "metadata": {
        "id": "wTWXzSM87jhF"
      },
      "source": [
        "##Type () Function"
      ]
    },
    {
      "cell_type": "code",
      "metadata": {
        "colab": {
          "base_uri": "https://localhost:8080/"
        },
        "id": "SKHGhYjv7oVR",
        "outputId": "c05fcb73-2d9d-40be-865b-0e4093f0ea23"
      },
      "source": [
        "x = 5\n",
        "y = \"John\"\n",
        "print(type(x))\n",
        "print(type(y))"
      ],
      "execution_count": 83,
      "outputs": [
        {
          "output_type": "stream",
          "name": "stdout",
          "text": [
            "<class 'int'>\n",
            "<class 'str'>\n"
          ]
        }
      ]
    },
    {
      "cell_type": "markdown",
      "metadata": {
        "id": "DnJLA_xU8MZE"
      },
      "source": [
        "###Double quotes or single quotes "
      ]
    },
    {
      "cell_type": "code",
      "metadata": {
        "colab": {
          "base_uri": "https://localhost:8080/"
        },
        "id": "hHguywT-8TDA",
        "outputId": "ba8fb789-8309-4581-f873-237b0ee837e1"
      },
      "source": [
        "y = \"John\"\n",
        "x = 'John'\n",
        "\n",
        "print(y)\n",
        "print(x)\n"
      ],
      "execution_count": 27,
      "outputs": [
        {
          "output_type": "stream",
          "name": "stdout",
          "text": [
            "John\n",
            "John\n"
          ]
        }
      ]
    },
    {
      "cell_type": "markdown",
      "metadata": {
        "id": "TOZLzon18qkF"
      },
      "source": [
        "##Case Sensitive\n",
        "\n"
      ]
    },
    {
      "cell_type": "code",
      "metadata": {
        "colab": {
          "base_uri": "https://localhost:8080/"
        },
        "id": "GmVbBizr8xcG",
        "outputId": "283afacd-0a59-4103-ad13-a2442db8bada"
      },
      "source": [
        "a = 4\n",
        "A = \"Sally\" \n",
        "#A will not overwrite a\n",
        "\n",
        "print(a)\n",
        "print(A)\n",
        "\n",
        "\n"
      ],
      "execution_count": 28,
      "outputs": [
        {
          "output_type": "stream",
          "name": "stdout",
          "text": [
            "4\n",
            "Sally\n"
          ]
        }
      ]
    },
    {
      "cell_type": "markdown",
      "metadata": {
        "id": "zo51lAMd9Wau"
      },
      "source": [
        "###Multiple Variable"
      ]
    },
    {
      "cell_type": "code",
      "metadata": {
        "colab": {
          "base_uri": "https://localhost:8080/"
        },
        "id": "apx2a_z_-IUe",
        "outputId": "c2b1a6da-d015-4dea-85d8-474b4f9b98a1"
      },
      "source": [
        "x,y,z = \"one\", \"two\", \"three\"\n",
        "print(x)\n",
        "print(y)\n",
        "print(z)"
      ],
      "execution_count": 29,
      "outputs": [
        {
          "output_type": "stream",
          "name": "stdout",
          "text": [
            "one\n",
            "two\n",
            "three\n"
          ]
        }
      ]
    },
    {
      "cell_type": "markdown",
      "metadata": {
        "id": "otvQ2p-_-tBT"
      },
      "source": [
        "###One Value to Multiple Variable"
      ]
    },
    {
      "cell_type": "code",
      "metadata": {
        "colab": {
          "base_uri": "https://localhost:8080/"
        },
        "id": "3MoC5bqm-xkN",
        "outputId": "8efd9c84-341a-4a0b-db2d-8628eaefad88"
      },
      "source": [
        "x = y = z = \"four\"\n",
        "print(x)\n",
        "print(y)\n",
        "print(z)"
      ],
      "execution_count": 34,
      "outputs": [
        {
          "output_type": "stream",
          "name": "stdout",
          "text": [
            "four\n",
            "four\n",
            "four\n"
          ]
        }
      ]
    },
    {
      "cell_type": "markdown",
      "metadata": {
        "id": "0NeAr9VY--6U"
      },
      "source": [
        "##Output Variables"
      ]
    },
    {
      "cell_type": "code",
      "metadata": {
        "colab": {
          "base_uri": "https://localhost:8080/"
        },
        "id": "4UkO0wLa_oAU",
        "outputId": "969399af-507d-4d0a-df28-ab7ba5650819"
      },
      "source": [
        "x = \"enjoying\"\n",
        "print (\"Phyton prgramming is\" +\" \"+ x +\".\")"
      ],
      "execution_count": 40,
      "outputs": [
        {
          "output_type": "stream",
          "name": "stdout",
          "text": [
            "Phyton prgramming is enjoying.\n"
          ]
        }
      ]
    },
    {
      "cell_type": "markdown",
      "metadata": {
        "id": "3SQe4ueMAeoH"
      },
      "source": [
        "###Operations"
      ]
    },
    {
      "cell_type": "code",
      "metadata": {
        "colab": {
          "base_uri": "https://localhost:8080/"
        },
        "id": "MXzWDfozAiNZ",
        "outputId": "53579882-1733-49d0-e314-5fb258385054"
      },
      "source": [
        "k = 10 \n",
        "l = 5\n",
        "print(k+l)"
      ],
      "execution_count": 52,
      "outputs": [
        {
          "output_type": "stream",
          "name": "stdout",
          "text": [
            "15\n"
          ]
        }
      ]
    },
    {
      "cell_type": "code",
      "metadata": {
        "colab": {
          "base_uri": "https://localhost:8080/"
        },
        "id": "aIM9WU7JCmCU",
        "outputId": "6a5a1902-e04d-4737-9056-2a808aea1efa"
      },
      "source": [
        "k+=l  #Is the same as k = k+l\n",
        "print (k)"
      ],
      "execution_count": 53,
      "outputs": [
        {
          "output_type": "stream",
          "name": "stdout",
          "text": [
            "15\n"
          ]
        }
      ]
    },
    {
      "cell_type": "code",
      "metadata": {
        "colab": {
          "base_uri": "https://localhost:8080/"
        },
        "id": "OJ0IsnJADC17",
        "outputId": "6d8e8ea6-b0be-430b-f598-8c32d790fcb1"
      },
      "source": [
        "k>l and l==l"
      ],
      "execution_count": 56,
      "outputs": [
        {
          "output_type": "execute_result",
          "data": {
            "text/plain": [
              "True"
            ]
          },
          "metadata": {},
          "execution_count": 56
        }
      ]
    },
    {
      "cell_type": "code",
      "metadata": {
        "colab": {
          "base_uri": "https://localhost:8080/"
        },
        "id": "YEBidioDD5_e",
        "outputId": "e8d3b59c-bd67-4d0e-c2f0-d022debe0926"
      },
      "source": [
        "(k<l or k==k)"
      ],
      "execution_count": 63,
      "outputs": [
        {
          "output_type": "execute_result",
          "data": {
            "text/plain": [
              "True"
            ]
          },
          "metadata": {},
          "execution_count": 63
        }
      ]
    },
    {
      "cell_type": "code",
      "metadata": {
        "colab": {
          "base_uri": "https://localhost:8080/"
        },
        "id": "VMudEIP5EqHL",
        "outputId": "2c28f22a-a9d0-4f26-dd06-b198fb8aa7d0"
      },
      "source": [
        "not(k<l or k==k)"
      ],
      "execution_count": 62,
      "outputs": [
        {
          "output_type": "execute_result",
          "data": {
            "text/plain": [
              "False"
            ]
          },
          "metadata": {},
          "execution_count": 62
        }
      ]
    },
    {
      "cell_type": "code",
      "metadata": {
        "colab": {
          "base_uri": "https://localhost:8080/"
        },
        "id": "OfXsUyygFb_w",
        "outputId": "53073ee1-9f98-488a-ecfb-7ffeab3d0b43"
      },
      "source": [
        "k is l"
      ],
      "execution_count": 66,
      "outputs": [
        {
          "output_type": "execute_result",
          "data": {
            "text/plain": [
              "False"
            ]
          },
          "metadata": {},
          "execution_count": 66
        }
      ]
    },
    {
      "cell_type": "code",
      "metadata": {
        "colab": {
          "base_uri": "https://localhost:8080/"
        },
        "id": "KX0zrE-ZFqYQ",
        "outputId": "5b8ef5ba-693e-4e68-b2f9-82f2793d5274"
      },
      "source": [
        "k is not l"
      ],
      "execution_count": 67,
      "outputs": [
        {
          "output_type": "execute_result",
          "data": {
            "text/plain": [
              "True"
            ]
          },
          "metadata": {},
          "execution_count": 67
        }
      ]
    },
    {
      "cell_type": "markdown",
      "metadata": {
        "id": "yXBkAsbsFxaW"
      },
      "source": [
        "###Modulo"
      ]
    },
    {
      "cell_type": "code",
      "metadata": {
        "colab": {
          "base_uri": "https://localhost:8080/"
        },
        "id": "TGVbp-G9FzCm",
        "outputId": "3d3273a7-4576-4f7b-ca18-992c23695a94"
      },
      "source": [
        "k = 25\n",
        "l = 7\n",
        "answer = k/l\n",
        "remainder = k%l\n",
        "\n",
        "print(int(answer))\n",
        "print(remainder)"
      ],
      "execution_count": 85,
      "outputs": [
        {
          "output_type": "stream",
          "name": "stdout",
          "text": [
            "3\n",
            "4\n"
          ]
        }
      ]
    }
  ]
}