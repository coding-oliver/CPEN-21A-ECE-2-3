{
  "nbformat": 4,
  "nbformat_minor": 0,
  "metadata": {
    "colab": {
      "name": "Final Exam.ipynb",
      "provenance": [],
      "authorship_tag": "ABX9TyObmMXZKrtSsTjvwtX88LAO",
      "include_colab_link": true
    },
    "kernelspec": {
      "name": "python3",
      "display_name": "Python 3"
    },
    "language_info": {
      "name": "python"
    }
  },
  "cells": [
    {
      "cell_type": "markdown",
      "metadata": {
        "id": "view-in-github",
        "colab_type": "text"
      },
      "source": [
        "<a href=\"https://colab.research.google.com/github/coding-oliver/CPEN-21A-ECE-2-3/blob/main/Final_Exam.ipynb\" target=\"_parent\"><img src=\"https://colab.research.google.com/assets/colab-badge.svg\" alt=\"Open In Colab\"/></a>"
      ]
    },
    {
      "cell_type": "markdown",
      "source": [
        "*Create a Python program that will produce an output of sum of 10 numbers less than 5 using FOR LOOP statement.*"
      ],
      "metadata": {
        "id": "rXJ-5wNCQ60q"
      }
    },
    {
      "cell_type": "code",
      "execution_count": 1,
      "metadata": {
        "id": "3qVfiXLiQLd_",
        "colab": {
          "base_uri": "https://localhost:8080/"
        },
        "outputId": "fdc66ab1-360d-48ac-ca91-7f33502037ff"
      },
      "outputs": [
        {
          "output_type": "stream",
          "name": "stdout",
          "text": [
            "-5\n",
            "-4\n",
            "-3\n",
            "-2\n",
            "-1\n",
            "0\n",
            "1\n",
            "2\n",
            "3\n",
            "4\n",
            "Sum of 10 numbers: -5\n"
          ]
        }
      ],
      "source": [
        "sum=0\n",
        "Z=[-5,-4, -3, -2, -1, 0, 1, 2, 3, 4]\n",
        "for x in Z:\n",
        "  print (x)\n",
        "  sum=sum+x\n",
        "print(\"Sum of 10 numbers:\", sum)"
      ]
    },
    {
      "cell_type": "markdown",
      "source": [
        "*Create a Python program that will produce accept five numbers and determine the sum of first and last number among the five numbers entered using WHILE LOOP*  \n"
      ],
      "metadata": {
        "id": "29wUVJmifx8b"
      }
    },
    {
      "cell_type": "code",
      "source": [
        "sample=0\n",
        "first_num=0\n",
        "last_num=0\n",
        "sum=0\n",
        "i=1\n",
        "\n",
        "while i<6:\n",
        "  print(i)\n",
        "  i+=1\n",
        "  last_num=i-1\n",
        "  first_num=i-5\n",
        "\n",
        "print(\"First Number:\", first_num)\n",
        "print(\"Last Number:\", last_num)\n",
        "print(\"Sum of first and last:\", last_num + first_num)"
      ],
      "metadata": {
        "colab": {
          "base_uri": "https://localhost:8080/"
        },
        "id": "SqsI8FWIf-PR",
        "outputId": "9c76403e-5909-43a1-d725-44ca5f0caf7e"
      },
      "execution_count": 2,
      "outputs": [
        {
          "output_type": "stream",
          "name": "stdout",
          "text": [
            "1\n",
            "2\n",
            "3\n",
            "4\n",
            "5\n",
            "First Number: 1\n",
            "Last Number: 5\n",
            "Sum of first and last: 6\n"
          ]
        }
      ]
    },
    {
      "cell_type": "markdown",
      "source": [
        "*Create a Python program to calculate student grades. It accepts a numerical grade as input and it will display the character grade as output based on the given scale: (Use Nested-IF-Else statement)*"
      ],
      "metadata": {
        "id": "YqfriS56kn2L"
      }
    },
    {
      "cell_type": "code",
      "source": [
        "stud_grade=float(input(\"Input grade: \"))\n",
        "\n",
        "if stud_grade>=90:\n",
        "  print(\"Grade: A\")\n",
        "else:\n",
        "  if stud_grade>=80:\n",
        "    print(\"Grade: B\")\n",
        "  else:\n",
        "    if stud_grade>=70:\n",
        "      print(\"Grade: C\")\n",
        "    else:\n",
        "      if stud_grade>=60:\n",
        "        print(\"Grade: D\")\n",
        "      else:\n",
        "        print(\"Grade: F\")"
      ],
      "metadata": {
        "id": "65jtd6UPliXn",
        "colab": {
          "base_uri": "https://localhost:8080/"
        },
        "outputId": "7cab7037-7eb5-46f9-c10e-179dd72aa877"
      },
      "execution_count": 3,
      "outputs": [
        {
          "output_type": "stream",
          "name": "stdout",
          "text": [
            "Input grade: 87.68\n",
            "Grade: B\n"
          ]
        }
      ]
    }
  ]
}