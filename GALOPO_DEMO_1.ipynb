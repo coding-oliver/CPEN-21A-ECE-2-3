{
  "nbformat": 4,
  "nbformat_minor": 0,
  "metadata": {
    "colab": {
      "name": "GALOPO_DEMO 1.ipynb",
      "provenance": [],
      "collapsed_sections": [],
      "authorship_tag": "ABX9TyOAfqMmN5GZx9Ijq9xOJ4pn",
      "include_colab_link": true
    },
    "kernelspec": {
      "name": "python3",
      "display_name": "Python 3"
    },
    "language_info": {
      "name": "python"
    }
  },
  "cells": [
    {
      "cell_type": "markdown",
      "metadata": {
        "id": "view-in-github",
        "colab_type": "text"
      },
      "source": [
        "<a href=\"https://colab.research.google.com/github/coding-oliver/CPEN-21A-ECE2-3/blob/main/GALOPO_DEMO_1.ipynb\" target=\"_parent\"><img src=\"https://colab.research.google.com/assets/colab-badge.svg\" alt=\"Open In Colab\"/></a>"
      ]
    },
    {
      "cell_type": "markdown",
      "metadata": {
        "id": "Hic6BrJ4jRPO"
      },
      "source": [
        "#Phyton Indention\n",
        "\n",
        "Indentation refers to the spaces at the beginning of a code line.\n",
        "\n"
      ]
    },
    {
      "cell_type": "code",
      "metadata": {
        "colab": {
          "base_uri": "https://localhost:8080/"
        },
        "id": "Mivo8VXBiW3K",
        "outputId": "23917305-f333-42ea-99ae-2e03aee88ada"
      },
      "source": [
        "if 5>2:\n",
        "  print (\"Five is greater than two!\") #This code shows a string of words."
      ],
      "execution_count": null,
      "outputs": [
        {
          "output_type": "stream",
          "name": "stdout",
          "text": [
            "Five is greater than two!\n"
          ]
        }
      ]
    },
    {
      "cell_type": "markdown",
      "metadata": {
        "id": "tmBt7594jvJV"
      },
      "source": [
        " *print means to display the output on the screen \n",
        "  input the text inside the parenthesis and a quotation*\n",
        "  **print(\"string\")**\n",
        "\n",
        "---\n",
        "\n",
        "\n",
        "\n",
        "---\n",
        "\n"
      ]
    },
    {
      "cell_type": "markdown",
      "metadata": {
        "id": "6I-BNBFFlxe5"
      },
      "source": [
        "###Python Variable"
      ]
    },
    {
      "cell_type": "code",
      "metadata": {
        "colab": {
          "base_uri": "https://localhost:8080/"
        },
        "id": "ThvnM5X6lCco",
        "outputId": "f11abae5-e58f-47fd-c43c-ff40e008c53b"
      },
      "source": [
        "a, b, c = 0,1,2\n",
        "d =\"Sally\" #This is a type of string\n",
        "s = 'Mark' #This is a type of string\n",
        "A = \"Raymond\"\n",
        "print(a)\n",
        "print(b)\n",
        "print(c)\n",
        "print(d)\n",
        "print (s)\n",
        "print (A)"
      ],
      "execution_count": null,
      "outputs": [
        {
          "output_type": "stream",
          "name": "stdout",
          "text": [
            "0\n",
            "1\n",
            "2\n",
            "Sally\n",
            "Mark\n",
            "Raymond\n"
          ]
        }
      ]
    },
    {
      "cell_type": "markdown",
      "metadata": {
        "id": "kYNikhi6mXZn"
      },
      "source": [
        "###Casting"
      ]
    },
    {
      "cell_type": "code",
      "metadata": {
        "colab": {
          "base_uri": "https://localhost:8080/"
        },
        "id": "WtN2uhDNmaDR",
        "outputId": "c0900ae5-5821-498f-bee0-d65401dd6cae"
      },
      "source": [
        "print (float(4))"
      ],
      "execution_count": null,
      "outputs": [
        {
          "output_type": "stream",
          "name": "stdout",
          "text": [
            "4.0\n"
          ]
        }
      ]
    },
    {
      "cell_type": "markdown",
      "metadata": {
        "id": "WqnR8qPAmrA4"
      },
      "source": [
        "###Type Function"
      ]
    },
    {
      "cell_type": "code",
      "metadata": {
        "colab": {
          "base_uri": "https://localhost:8080/"
        },
        "id": "y17OHm0umtba",
        "outputId": "ab59e0ce-ed2f-4bcd-8d46-293d6bfbcb09"
      },
      "source": [
        "f = 56.78924/4656\n",
        "g = \"John\"\n",
        "print (type(f))"
      ],
      "execution_count": null,
      "outputs": [
        {
          "output_type": "stream",
          "name": "stdout",
          "text": [
            "<class 'float'>\n"
          ]
        }
      ]
    },
    {
      "cell_type": "code",
      "metadata": {
        "colab": {
          "base_uri": "https://localhost:8080/"
        },
        "id": "EN0Bu5z7nqa3",
        "outputId": "febbc872-f11d-44da-b6c4-bc49c45d1c9b"
      },
      "source": [
        "x,y,z = \"one\", \"two\", \"three\"\n",
        "print (x)\n",
        "print (y)\n",
        "print (z)"
      ],
      "execution_count": null,
      "outputs": [
        {
          "output_type": "stream",
          "name": "stdout",
          "text": [
            "one\n",
            "two\n",
            "three\n"
          ]
        }
      ]
    },
    {
      "cell_type": "markdown",
      "metadata": {
        "id": "Zzw15xVbn-L3"
      },
      "source": [
        "##Multiple variables to single value\n"
      ]
    },
    {
      "cell_type": "code",
      "metadata": {
        "colab": {
          "base_uri": "https://localhost:8080/"
        },
        "id": "67Ze6J2boD1l",
        "outputId": "d2d29204-5a79-47f9-dcc8-eaabee8e12b6"
      },
      "source": [
        "x = y = z = \"four\"\n",
        "print (x)\n",
        "print (y)\n",
        "print (z)"
      ],
      "execution_count": null,
      "outputs": [
        {
          "output_type": "stream",
          "name": "stdout",
          "text": [
            "four\n",
            "four\n",
            "four\n"
          ]
        }
      ]
    },
    {
      "cell_type": "code",
      "metadata": {
        "colab": {
          "base_uri": "https://localhost:8080/"
        },
        "id": "OJeWzZ4hoW67",
        "outputId": "e3c005c3-1233-4e88-8e8c-710845ed8766"
      },
      "source": [
        "x =  \"enjoying\"\n",
        "print (\"Python programming is\" \" \" +  x + \".\")"
      ],
      "execution_count": null,
      "outputs": [
        {
          "output_type": "stream",
          "name": "stdout",
          "text": [
            "Python programming is enjoying.\n"
          ]
        }
      ]
    },
    {
      "cell_type": "markdown",
      "metadata": {
        "id": "i86IsCWZo_kf"
      },
      "source": [
        "###Operations in Python"
      ]
    },
    {
      "cell_type": "code",
      "metadata": {
        "colab": {
          "base_uri": "https://localhost:8080/"
        },
        "id": "Oj1J87oSpCcu",
        "outputId": "21f49c22-00c4-4738-e0d1-34986d83070e"
      },
      "source": [
        "k = 10 \n",
        "l = 5\n",
        "print(k+l)"
      ],
      "execution_count": null,
      "outputs": [
        {
          "output_type": "stream",
          "name": "stdout",
          "text": [
            "15\n"
          ]
        }
      ]
    },
    {
      "cell_type": "code",
      "metadata": {
        "colab": {
          "base_uri": "https://localhost:8080/"
        },
        "id": "Ljgr0qZCpZ_s",
        "outputId": "fea6f518-2a0c-484e-9c58-c43548253a44"
      },
      "source": [
        "k+=l  #Is the same as k = k+l\n",
        "print (k)"
      ],
      "execution_count": null,
      "outputs": [
        {
          "output_type": "stream",
          "name": "stdout",
          "text": [
            "15\n"
          ]
        }
      ]
    },
    {
      "cell_type": "code",
      "metadata": {
        "colab": {
          "base_uri": "https://localhost:8080/"
        },
        "id": "2lpd0w6EqGnk",
        "outputId": "585b35f6-fb24-4005-fb5d-10e5e3934eee"
      },
      "source": [
        "k>l and l==l"
      ],
      "execution_count": null,
      "outputs": [
        {
          "output_type": "execute_result",
          "data": {
            "text/plain": [
              "True"
            ]
          },
          "metadata": {},
          "execution_count": 41
        }
      ]
    },
    {
      "cell_type": "code",
      "metadata": {
        "colab": {
          "base_uri": "https://localhost:8080/"
        },
        "id": "6c5XIaFaqLTb",
        "outputId": "d2aa9db3-208c-4bb0-900f-72e552bda64d"
      },
      "source": [
        "k<l or k==k"
      ],
      "execution_count": null,
      "outputs": [
        {
          "output_type": "execute_result",
          "data": {
            "text/plain": [
              "True"
            ]
          },
          "metadata": {},
          "execution_count": 42
        }
      ]
    },
    {
      "cell_type": "code",
      "metadata": {
        "colab": {
          "base_uri": "https://localhost:8080/"
        },
        "id": "RN93shgGqbHl",
        "outputId": "45fe2718-c461-45d1-d763-5b358212c3d2"
      },
      "source": [
        "not(k<l or k==k)"
      ],
      "execution_count": null,
      "outputs": [
        {
          "output_type": "execute_result",
          "data": {
            "text/plain": [
              "False"
            ]
          },
          "metadata": {},
          "execution_count": 43
        }
      ]
    },
    {
      "cell_type": "code",
      "metadata": {
        "colab": {
          "base_uri": "https://localhost:8080/"
        },
        "id": "9A90f3YFqehN",
        "outputId": "9090af35-d741-4be7-ae12-9d17d9387fa8"
      },
      "source": [
        "k is l"
      ],
      "execution_count": null,
      "outputs": [
        {
          "output_type": "execute_result",
          "data": {
            "text/plain": [
              "False"
            ]
          },
          "metadata": {},
          "execution_count": 45
        }
      ]
    },
    {
      "cell_type": "markdown",
      "metadata": {
        "id": "wLs7XKXkq4F7"
      },
      "source": [
        "###Modulo "
      ]
    },
    {
      "cell_type": "code",
      "metadata": {
        "colab": {
          "base_uri": "https://localhost:8080/"
        },
        "id": "xoaEyJI1rFc5",
        "outputId": "0f917176-fb7c-4f4b-d698-5f94b93fc84f"
      },
      "source": [
        "k%=5.156\n",
        "k\n"
      ],
      "execution_count": null,
      "outputs": [
        {
          "output_type": "execute_result",
          "data": {
            "text/plain": [
              "0.0"
            ]
          },
          "metadata": {},
          "execution_count": 49
        }
      ]
    }
  ]
}