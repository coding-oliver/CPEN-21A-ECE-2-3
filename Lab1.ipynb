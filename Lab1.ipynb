{
  "nbformat": 4,
  "nbformat_minor": 0,
  "metadata": {
    "colab": {
      "name": "Lab1.ipynb",
      "provenance": [],
      "authorship_tag": "ABX9TyOSy6Wo/p1HwBoTBQJb4gvr",
      "include_colab_link": true
    },
    "kernelspec": {
      "name": "python3",
      "display_name": "Python 3"
    },
    "language_info": {
      "name": "python"
    }
  },
  "cells": [
    {
      "cell_type": "markdown",
      "metadata": {
        "id": "view-in-github",
        "colab_type": "text"
      },
      "source": [
        "<a href=\"https://colab.research.google.com/github/coding-oliver/CPEN-21A-ECE-2-3/blob/main/Lab1.ipynb\" target=\"_parent\"><img src=\"https://colab.research.google.com/assets/colab-badge.svg\" alt=\"Open In Colab\"/></a>"
      ]
    },
    {
      "cell_type": "markdown",
      "metadata": {
        "id": "j6rdvQcShsIN"
      },
      "source": [
        "####**Laboratory 1** "
      ]
    },
    {
      "cell_type": "markdown",
      "metadata": {
        "id": "hV9fwChVgZiP"
      },
      "source": [
        "###Welcome to Python Programming"
      ]
    },
    {
      "cell_type": "code",
      "metadata": {
        "colab": {
          "base_uri": "https://localhost:8080/"
        },
        "id": "XiryCZTbgXg_",
        "outputId": "c9d57693-9394-4b46-acc4-c6da37a657b9"
      },
      "source": [
        "print(\"Welcome to Python Programming\")"
      ],
      "execution_count": 1,
      "outputs": [
        {
          "output_type": "stream",
          "name": "stdout",
          "text": [
            "Welcome to Python Programming\n"
          ]
        }
      ]
    },
    {
      "cell_type": "markdown",
      "metadata": {
        "id": "gj33zdLngl-H"
      },
      "source": [
        "###Name, Address, and Age"
      ]
    },
    {
      "cell_type": "code",
      "metadata": {
        "colab": {
          "base_uri": "https://localhost:8080/"
        },
        "id": "1_tr6WtNg00J",
        "outputId": "a9e5fe59-aa1e-4523-afba-95fc18ad9d95"
      },
      "source": [
        "user_name = \"Christian Oliver D. Galopo\"\n",
        "user_address = \"Brgy. Anabu 1-A, Imus City, Cavite\"\n",
        "user_age = \"19 years old\"\n",
        "\n",
        "print(\"Name:\",user_name)\n",
        "print(\"Address:\",user_address)\n",
        "print(\"Age:\",user_age)"
      ],
      "execution_count": 5,
      "outputs": [
        {
          "output_type": "stream",
          "name": "stdout",
          "text": [
            "Name: Christian Oliver D. Galopo\n",
            "Address: Brgy. Anabu 1-A, Imus City, Cavite\n",
            "Age: 19 years old\n"
          ]
        }
      ]
    }
  ]
}