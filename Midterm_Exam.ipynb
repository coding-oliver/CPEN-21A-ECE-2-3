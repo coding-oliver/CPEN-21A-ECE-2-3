{
  "nbformat": 4,
  "nbformat_minor": 0,
  "metadata": {
    "colab": {
      "name": "Midterm Exam.ipynb",
      "provenance": [],
      "authorship_tag": "ABX9TyPm67e0syzQP37ebr2sAMu2",
      "include_colab_link": true
    },
    "kernelspec": {
      "name": "python3",
      "display_name": "Python 3"
    },
    "language_info": {
      "name": "python"
    }
  },
  "cells": [
    {
      "cell_type": "markdown",
      "metadata": {
        "id": "view-in-github",
        "colab_type": "text"
      },
      "source": [
        "<a href=\"https://colab.research.google.com/github/coding-oliver/CPEN-21A-ECE-2-3/blob/main/Midterm_Exam.ipynb\" target=\"_parent\"><img src=\"https://colab.research.google.com/assets/colab-badge.svg\" alt=\"Open In Colab\"/></a>"
      ]
    },
    {
      "cell_type": "markdown",
      "metadata": {
        "id": "3YSsBjTlzJPo"
      },
      "source": [
        "### **Midterm Exam**"
      ]
    },
    {
      "cell_type": "markdown",
      "metadata": {
        "id": "LaWfzeBXzbtI"
      },
      "source": [
        "###Problem Statement 1"
      ]
    },
    {
      "cell_type": "code",
      "metadata": {
        "colab": {
          "base_uri": "https://localhost:8080/"
        },
        "id": "DtYNGJUzzRkz",
        "outputId": "f5f8e261-8c92-4029-ceb4-32822bf8ea1b"
      },
      "source": [
        "full_name = \"Christian Oliver Daganio Galopo\" \n",
        "stud_number = 202014995\n",
        "age = \"19 years old\"\n",
        "birthday = \"December 3, 2001\"\n",
        "address = \"#135 Brgy. Anabu 1-A, Imus City, Cavite\"\n",
        "course = \"Bachelor of Science in Electronics and Communications Engineering\" \n",
        "last_sem_gwa = 1.33\n",
        "\n",
        "print(\"Full Name:\", full_name)\n",
        "print(\"StudentNumber:\", stud_number)\n",
        "print(\"Age:\", age)\n",
        "print(\"Birthday:\", birthday)\n",
        "print(\"Address:\", address)\n",
        "print(\"Course:\", course)\n",
        "print(\"LastSem GWA:\", last_sem_gwa)"
      ],
      "execution_count": 44,
      "outputs": [
        {
          "output_type": "stream",
          "name": "stdout",
          "text": [
            "Full Name: Christian Oliver Daganio Galopo\n",
            "StudentNumber: 202014995\n",
            "Age: 19 years old\n",
            "Birthday: December 3, 2001\n",
            "Address: #135 Brgy. Anabu 1-A, Imus City, Cavite\n",
            "Course: Bachelor of Science in Electronics and Communications Engineering\n",
            "LastSem GWA: 1.33\n"
          ]
        }
      ]
    },
    {
      "cell_type": "markdown",
      "metadata": {
        "id": "39BPB_uO0hDz"
      },
      "source": [
        "###Problem Statement 2"
      ]
    },
    {
      "cell_type": "code",
      "metadata": {
        "colab": {
          "base_uri": "https://localhost:8080/"
        },
        "id": "KP_YyY9W0l8k",
        "outputId": "41871c39-0fad-495d-9018-9f339aaf7366"
      },
      "source": [
        "n = 4\n",
        "answ = \"Y\"\n",
        "\n",
        "##condition a\n",
        "print(\"a:\", (2<n) and (n<6))\n",
        "\n",
        "##condition b\n",
        "print(\"b:\", (2<n) or (n==6))\n",
        "\n",
        "## condition c\n",
        "print(\"c:\", (not(2<n) or (n==6)))\n",
        "\n",
        "## condition d\n",
        "print(\"d:\", (not n<6))\n",
        "\n",
        "## condition e\n",
        "print(\"e:\",(answ==\"Y\" or answ==\"y\"))\n",
        "\n",
        "## condition f\n",
        "print(\"f:\", (answ==\"Y\" and answ==\"y\"))\n",
        "\n",
        "#conditon g\n",
        "print(\"g:\", (not answ==\"y\"))\n",
        "\n",
        "#conditon h\n",
        "print(\"h:\", (2<n and n==5+1) or answ==\"No\")\n",
        "\n",
        "#condition i\n",
        "print(\"i:\", ((n==2 and n==7)or answ==\"Y\"))\n",
        "\n",
        "#condition j\n",
        "print(\"j:\", ((n==2 and (n==7 or answ==\"Y\"))))"
      ],
      "execution_count": 43,
      "outputs": [
        {
          "output_type": "stream",
          "name": "stdout",
          "text": [
            "a: True\n",
            "b: True\n",
            "c: False\n",
            "d: False\n",
            "e: True\n",
            "f: False\n",
            "g: True\n",
            "h: False\n",
            "i: True\n",
            "j: False\n"
          ]
        }
      ]
    },
    {
      "cell_type": "markdown",
      "metadata": {
        "id": "hXwLNnkn6CJ7"
      },
      "source": [
        "##Problem Statement 3"
      ]
    },
    {
      "cell_type": "code",
      "metadata": {
        "colab": {
          "base_uri": "https://localhost:8080/"
        },
        "id": "mMMzQrTS6Eh0",
        "outputId": "2988e901-b956-4dca-a2b8-d0dab31b1abe"
      },
      "source": [
        "x = 2\n",
        "y = -3\n",
        "w = 7\n",
        "z = -10\n",
        "\n",
        "a = x/y\n",
        "b = w/y/x\n",
        "c = z/y%x\n",
        "d = x%-y*w\n",
        "e = x%y\n",
        "f = z%w-y/x*5+5\n",
        "g = 9-x%(2+y)\n",
        "h = z//w\n",
        "i = (2+y)**2\n",
        "j = w/x*2\n",
        "\n",
        "print(\"a:\", a)\n",
        "print(\"b:\", b)\n",
        "print(\"c:\", c)\n",
        "print(\"d:\", d)\n",
        "print(\"e:\", e)\n",
        "print(\"f:\", f)\n",
        "print(\"g:\", g)\n",
        "print(\"h:\", h)\n",
        "print(\"i:\", i)\n",
        "print(\"j:\", j)"
      ],
      "execution_count": 41,
      "outputs": [
        {
          "output_type": "stream",
          "name": "stdout",
          "text": [
            "a: -0.6666666666666666\n",
            "b: -1.1666666666666667\n",
            "c: 1.3333333333333335\n",
            "d: 14\n",
            "e: -1\n",
            "f: 16.5\n",
            "g: 9\n",
            "h: -2\n",
            "i: 1\n",
            "j: 7.0\n"
          ]
        }
      ]
    }
  ]
}